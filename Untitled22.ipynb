{
  "nbformat": 4,
  "nbformat_minor": 0,
  "metadata": {
    "colab": {
      "provenance": [],
      "authorship_tag": "ABX9TyPwbASLzNI9fUAdojiGOo4B",
      "include_colab_link": true
    },
    "kernelspec": {
      "name": "python3",
      "display_name": "Python 3"
    },
    "language_info": {
      "name": "python"
    }
  },
  "cells": [
    {
      "cell_type": "markdown",
      "metadata": {
        "id": "view-in-github",
        "colab_type": "text"
      },
      "source": [
        "<a href=\"https://colab.research.google.com/github/Kathiravan-11/DS100259/blob/main/Untitled22.ipynb\" target=\"_parent\"><img src=\"https://colab.research.google.com/assets/colab-badge.svg\" alt=\"Open In Colab\"/></a>"
      ]
    },
    {
      "cell_type": "code",
      "execution_count": 35,
      "metadata": {
        "colab": {
          "base_uri": "https://localhost:8080/"
        },
        "id": "VhJevfDEeOT1",
        "outputId": "30f6ed1d-f79b-41e5-e0d2-360f57a1bba1"
      },
      "outputs": [
        {
          "output_type": "stream",
          "name": "stdout",
          "text": [
            "              precision    recall  f1-score   support\n",
            "\n",
            "           0       0.90      0.67      0.77       610\n",
            "           1       0.27      0.62      0.38       122\n",
            "\n",
            "    accuracy                           0.66       732\n",
            "   macro avg       0.59      0.65      0.57       732\n",
            "weighted avg       0.79      0.66      0.70       732\n",
            "\n"
          ]
        }
      ],
      "source": [
        "import pandas as pd\n",
        "import numpy as np\n",
        "dataset=pd.read_csv(\"framingham.csv\")\n",
        "dataset.dropna(inplace=True)\n",
        "x=dataset.iloc[:,:-1]\n",
        "y=dataset.iloc[:,-1]\n",
        "columns=x.columns\n",
        "from sklearn.preprocessing import StandardScaler\n",
        "sc=StandardScaler()\n",
        "x=sc.fit_transform(x)\n",
        "x=pd.DataFrame(x,columns=columns)\n",
        "from sklearn.model_selection import train_test_split\n",
        "x_train,x_test,y_train,y_test=train_test_split(x,y,test_size=0.2,random_state=42)\n",
        "y.value_counts()\n",
        "from imblearn.over_sampling import SMOTE\n",
        "sm=SMOTE()\n",
        "x_resample,y_resample=sm.fit_resample(x_train,y_train)\n",
        "from sklearn.linear_model import LogisticRegression\n",
        "lr=LogisticRegression()\n",
        "lr.fit(x_resample,y_resample)\n",
        "y_pred=lr.predict(x_test)\n",
        "from sklearn.metrics import confusion_matrix,accuracy_score,classification_report\n",
        "import pandas as pd\n",
        "import numpy as np\n",
        "dataset=pd.read_csv(\"framingham.csv\")\n",
        "dataset.dropna(inplace=True)\n",
        "x=dataset.iloc[:,:-1]\n",
        "y=dataset.iloc[:,-1]\n",
        "columns=x.columns\n",
        "from sklearn.preprocessing import StandardScaler\n",
        "sc=StandardScaler()\n",
        "x=sc.fit_transform(x)\n",
        "x=pd.DataFrame(x,columns=columns)\n",
        "from sklearn.model_selection import train_test_split\n",
        "x_train,x_test,y_train,y_test=train_test_split(x,y,test_size=0.2,random_state=42)\n",
        "y.value_counts()\n",
        "from imblearn.over_sampling import SMOTE\n",
        "sm=SMOTE()\n",
        "x_resample,y_resample=sm.fit_resample(x_train,y_train)\n",
        "from sklearn.linear_model import LogisticRegression\n",
        "lr=LogisticRegression()\n",
        "lr.fit(x_resample,y_resample)\n",
        "y_pred=lr.predict(x_test)\n",
        "from sklearn.metrics import confusion_matrix,accuracy_score,classification_report\n",
        "confusion_matrix(y_test,y_pred)\n",
        "accuracy_score(y_test,y_pred)\n",
        "print(classification_report(y_test,y_pred))"
      ]
    },
    {
      "cell_type": "code",
      "source": [],
      "metadata": {
        "id": "c6-pisNkhqrL"
      },
      "execution_count": null,
      "outputs": []
    }
  ]
}